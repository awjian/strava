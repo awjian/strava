{
 "cells": [
  {
   "cell_type": "code",
   "execution_count": 20,
   "metadata": {},
   "outputs": [],
   "source": [
    "import requests\n",
    "import polyline\n",
    "import turtle"
   ]
  },
  {
   "cell_type": "code",
   "execution_count": 31,
   "metadata": {},
   "outputs": [],
   "source": [
    "url = 'https://www.strava.com/api/v3/athlete/activities'\n",
    "\n",
    "auth_token = <string>\n",
    "before = <unix timestamp>\n",
    "after = <unix timestamp>\n",
    "per_page = <int>\n",
    "\n",
    "header = {'Authorization': f\"Bearer {auth_token}\"}\n",
    "params = {'before': f'{before}', 'after': f'{after}', 'per_page': f'{per_page}'}\n",
    "activities = requests.get(url, headers=header, params=params).json()"
   ]
  },
  {
   "cell_type": "code",
   "execution_count": 28,
   "metadata": {},
   "outputs": [],
   "source": [
    "longlats = [polyline.decode(activity['map']['summary_polyline']) for activity in activities if activity['map']['summary_polyline']]\n"
   ]
  },
  {
   "cell_type": "code",
   "execution_count": 30,
   "metadata": {},
   "outputs": [],
   "source": [
    "t = turtle.Turtle()\n",
    "t.pensize(2)\n",
    "turtle.bgcolor(\"white\")\n",
    "turtle.hideturtle()\n",
    "turtle.speed('fast')\n",
    "\n",
    "colors = [\"#FBEBB4\", \"#85A7E8\", \"#F0D5CB\", \"#C7BCE5\", \"#C2E3AE\"]\n",
    "cities = {}\n",
    "scale = 1e4\n",
    "\n",
    "for longlat in longlats:\n",
    "    city = (round(longlat[0][0]), round(longlat[0][1]))\n",
    "    if city not in cities.keys():\n",
    "        cities[city] = [longlat[0], colors[len(cities) % len(colors)]]\n",
    "    zero = cities[city][0]\n",
    "    t.pencolor(cities[city][1])\n",
    "\n",
    "    scaled = [((lat-zero[1])*scale, (long-zero[0])*scale) for long, lat in longlat]\n",
    "    \n",
    "    t.goto(scaled[0])\n",
    "    t.pendown()\n",
    "    for x, y in scaled:\n",
    "        t.goto(x,y)\n",
    "    t.penup()\n",
    "    t.goto(0,0)"
   ]
  }
 ],
 "metadata": {
  "kernelspec": {
   "display_name": "Python 3",
   "language": "python",
   "name": "python3"
  },
  "language_info": {
   "codemirror_mode": {
    "name": "ipython",
    "version": 3
   },
   "file_extension": ".py",
   "mimetype": "text/x-python",
   "name": "python",
   "nbconvert_exporter": "python",
   "pygments_lexer": "ipython3",
   "version": "3.8.1"
  }
 },
 "nbformat": 4,
 "nbformat_minor": 4
}
